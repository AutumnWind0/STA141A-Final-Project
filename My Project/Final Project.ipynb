{
 "cells": [
  {
   "cell_type": "markdown",
   "id": "cb03c839-9136-4091-ac7d-284cbcc7e76b",
   "metadata": {},
   "source": [
    "# Predicting Behavioral Outcomes from Neural Spike Train Data: An Analysis of Visual Stimulus Experiments"
   ]
  },
  {
   "cell_type": "markdown",
   "id": "7e965cb0-bba0-40b5-bbe1-dcf511f092b0",
   "metadata": {},
   "source": [
    "#### STA 141 Final Project  by Yingchun Yuan 919552555"
   ]
  },
  {
   "cell_type": "markdown",
   "id": "be23c706-cbf4-4978-b1f4-d9b137294a1c",
   "metadata": {},
   "source": [
    "---"
   ]
  },
  {
   "cell_type": "markdown",
   "id": "04344b82-f592-44e2-85cc-038dffb0f5ec",
   "metadata": {},
   "source": [
    "## **Abstract**"
   ]
  },
  {
   "cell_type": "markdown",
   "id": "edb10b81-dadd-4f7b-ae1b-d9616882f7c1",
   "metadata": {},
   "source": [
    "This project examines the use of neural spike train data to predict the outcomes of visual stimulus experiments in mice. The analysis is based on data collected from 18 sessions involving four mice. Our core question is how to predict trial outcomes from these spike trains, given the complexity of high-dimensional neuron data spanning multiple brain areas."
   ]
  },
  {
   "cell_type": "markdown",
   "id": "2a00742b-b561-4b33-897a-860e9b1df6b0",
   "metadata": {},
   "source": [
    "---"
   ]
  },
  {
   "cell_type": "markdown",
   "id": "aaa7314e-3629-4e58-8b06-4e4d5f8b7916",
   "metadata": {},
   "source": [
    "## **Session 1: Introduction**"
   ]
  },
  {
   "cell_type": "markdown",
   "id": "570890b4-667d-4ba4-ac4e-8832260dd31d",
   "metadata": {},
   "source": [
    "The focus of this project is to develop a predictive model that uses neural spike train data and visual stimulus contrast information to forecast behavioral outcomes in mice. \n",
    "\n",
    "The dataset, originating from experiments on four mice over 18 sessions, includes detailed records of trial feedback, stimulus contrasts, and time-resolved spike counts from various brain areas. An initial exploratory analysis identifies important data features and potential patterns, while a data integration step consolidates trial-level information across sessions. Finally, a logistic regression model is applied to predict trial outcomes, taking into account both stimulus conditions and the summarized neural activity. This approach aims to provide a clear demonstration of effective data processing and predictive modeling techniques in a practical project setting.\n",
    "\n",
    "This project examines neural activity data from 18 sessions collected from four mice—Cori, Forssmann, Hench, and Lederberg. Each session includes the following important variables:\n",
    "\n",
    "- **Contrast**: The contrast levels of the stimulus presented on either the left or right side. This determines the sensory input the mice receives.\n",
    "- **Feedback**: Indicates whether the trial was successful (1) or a failure (-1), providing a measure of trial performance.\n",
    "- **Time**: Represents the time bin centers used to segment neural spike activity.\n",
    "- **Spikes**: The recorded spike counts of neurons within the visual cortex, measured across predefined time bins.\n",
    "- **Brain Area**: Identifies the specific region of the brain where each recorded neuron is located, allowing for spatial analysis of neural activity.\n",
    "\n",
    "We analyze data integration steps that account for session-to-session differences and highlight the significance of contrast-based stimuli in shaping behavior.\n",
    "\n",
    "By focusing on shared features, we aim to build a model that generalizes well across different mice and experimental sessions, ultimately connecting neural signatures to decision-making processes."
   ]
  },
  {
   "cell_type": "markdown",
   "id": "34383c36-f83c-4d0f-8953-beb1f2bc7c31",
   "metadata": {},
   "source": [
    "---"
   ]
  },
  {
   "cell_type": "markdown",
   "id": "51d4da7f-7a5d-4e97-bdb8-40bc901ceec5",
   "metadata": {},
   "source": [
    "**## Session 2: Exploratory Analysis**"
   ]
  },
  {
   "cell_type": "markdown",
   "id": "943f7461-2813-4b1b-934d-0cf304a26a65",
   "metadata": {},
   "source": [
    "#### **Overview of Sessions and Neurons**\n",
    "\n",
    "|mouse_name |date_exp   | n_brain_area| n_neurons| n_trials| success_rate|\n",
    "|:----------|:----------|------------:|---------:|--------:|------------:|\n",
    "|Cori       |2016-12-14 |            8|       734|      114|    0.6052632|\n",
    "|Cori       |2016-12-17 |            5|      1070|      251|    0.6334661|\n",
    "|Cori       |2016-12-18 |           11|       619|      228|    0.6622807|\n",
    "|Forssmann  |2017-11-01 |           11|      1769|      249|    0.6666667|\n",
    "|Forssmann  |2017-11-02 |           10|      1077|      254|    0.6614173|\n",
    "|Forssmann  |2017-11-04 |            5|      1169|      290|    0.7413793|\n",
    "|Forssmann  |2017-11-05 |            8|       584|      252|    0.6706349|\n",
    "|Hench      |2017-06-15 |           15|      1157|      250|    0.6440000|\n",
    "|Hench      |2017-06-16 |           12|       788|      372|    0.6854839|\n",
    "|Hench      |2017-06-17 |           13|      1172|      447|    0.6196868|\n",
    "|Hench      |2017-06-18 |            6|       857|      342|    0.7953216|\n",
    "|Lederberg  |2017-12-05 |           12|       698|      340|    0.7382353|\n",
    "|Lederberg  |2017-12-06 |           15|       983|      300|    0.7966667|\n",
    "|Lederberg  |2017-12-07 |           10|       756|      268|    0.6940299|\n",
    "|Lederberg  |2017-12-08 |            8|       743|      404|    0.7648515|\n",
    "|Lederberg  |2017-12-09 |            6|       474|      280|    0.7178571|\n",
    "|Lederberg  |2017-12-10 |            6|       565|      224|    0.8303571|\n",
    "|Lederberg  |2017-12-11 |           10|      1090|      216|    0.8055556|\n",
    "<center>Table 1: Data Overview</center>"
   ]
  },
  {
   "cell_type": "markdown",
   "id": "889506a9-723d-4b68-9879-2d509f1b7044",
   "metadata": {},
   "source": [
    "Our exploratory analysis reveals considerable variability across sessions. We compiled a metadata table summarizing each session's mouse identity, experiment date, number of brain areas, number of neurons, number of trials, and success rate. For example, the metadata table shows that session 1 (Cori, 2016-12-14) recorded 734 neurons over 114 trials with a success rate of 60.5%, whereas other sessions show significant differences in these metrics."
   ]
  },
  {
   "cell_type": "markdown",
   "id": "9a8fab07-fcb1-4b0e-9ea7-3f6f707617ee",
   "metadata": {},
   "source": [
    "#### **Distribution of Contrast Differences**"
   ]
  },
  {
   "cell_type": "markdown",
   "id": "1331702e-56a8-4e41-9d47-e600cf524735",
   "metadata": {},
   "source": [
    "<center><img src=\"./Graphs/ContrastDifference.png\" alt=\"Distribution of Contrast Difference\" style=\"width: 400px;\" align=\"center\"/></center>\n",
    "<center>Figure 1: Contrast Difference Distribution</center>"
   ]
  },
  {
   "cell_type": "markdown",
   "id": "9be30a4f-df73-4735-98a3-39125fbeee74",
   "metadata": {},
   "source": [
    "By computing the absolute difference between the left and right stimulus contrasts, we obtained a contrast difference variable. The figure shows that most trials have a contrast difference ranging from 0 to 1, with a peak around 0.0，suggesting that many trials involve moderate differences in stimulus intensity."
   ]
  },
  {
   "cell_type": "markdown",
   "id": "ff9bc6f5-7cba-4f76-af77-d3e0ccb72b15",
   "metadata": {},
   "source": [
    "#### **Success Rate Analysis**"
   ]
  },
  {
   "cell_type": "markdown",
   "id": "a3ded45f-6150-4fe3-b0be-e433951d7c3c",
   "metadata": {},
   "source": [
    "<center><img src=\"./Graphs/Success Rate Analysis.png\" alt=\"Success Rate Analysis\" style=\"width: 400px;\" align=\"center\"/></center>\n",
    "<center>Figure 2: Relationship between Contrast Difference Bin and Success Rate</center>"
   ]
  },
  {
   "cell_type": "markdown",
   "id": "5175f8be-b2cd-4c99-a05f-e0063c5de28c",
   "metadata": {},
   "source": [
    "We further examined how success rates vary across different contrast difference bins. The bar chart demonstrates that higher contrast differences are generally associated with higher success rates, confirming that the trial becomes easier to success as the stimulus disparity increases."
   ]
  },
  {
   "cell_type": "markdown",
   "id": "071a36b4-7ad4-40c9-9dd4-7def0cbde4a3",
   "metadata": {},
   "source": [
    "#### **Mouse-Specific Performance**"
   ]
  },
  {
   "cell_type": "markdown",
   "id": "4d69cee4-9c84-47d4-938c-1438aa0c9148",
   "metadata": {},
   "source": [
    "<center><img src=\"./Graphs/Mouse-Specific Performance.png\" alt=\"Mouse-Specific Performance\" style=\"width: 400px;\" align=\"center\"/></center>\n",
    "<center>Figure 3: Relationship between mice species and success rate</center>"
   ]
  },
  {
   "cell_type": "markdown",
   "id": "a7932afe-2d7a-448f-8812-7286976918de",
   "metadata": {},
   "source": [
    "Additionally, we analyzed success rates by mouse. The results, displayed in the figure, indicate distinct performance patterns among the four mice, with Lederberg tending to have higher success rates. This individual variability suggests that factors such as visual discrimination ability and engagement may differ across subjects."
   ]
  },
  {
   "cell_type": "markdown",
   "id": "52aa3e1d-5aa7-4636-94f3-35c9facc84a1",
   "metadata": {},
   "source": [
    "---"
   ]
  },
  {
   "cell_type": "markdown",
   "id": "0fe7a44c-6afe-45c6-9245-9b72894c3494",
   "metadata": {},
   "source": [
    "## **Session 3: Data Integration**"
   ]
  },
  {
   "cell_type": "markdown",
   "id": "dfe054b0-f00d-483f-8b6c-c59bfff44ae4",
   "metadata": {},
   "source": [
    "#### **Standardizing Neural Features**"
   ]
  },
  {
   "cell_type": "markdown",
   "id": "9c40fa8a-0da2-4ff9-8290-744b946f7e52",
   "metadata": {},
   "source": [
    "```R\n",
    "all_brain_areas <- unique(unlist(lapply(session, function(s) unique(s$brain_area))))\n",
    "all_brain_areas <- sort(all_brain_areas)\n",
    "print(all_brain_areas)\n",
    "```"
   ]
  },
  {
   "cell_type": "markdown",
   "id": "511eaf9e-f11e-4967-b6bc-678ac06d2d2b",
   "metadata": {},
   "source": [
    "```R\n",
    "integrated_data <- tibble()\n",
    "for(s in 1:18){\n",
    "  n.trials <- length(session[[s]]$feedback_type)\n",
    "  tmp <- session[[s]]\n",
    "  brain_areas_session <- tmp$brain_area\n",
    "  for(trial in 1:n.trials){\n",
    "    spks_trial <- tmp$spks[[trial]]\n",
    "    total_spikes <- apply(spks_trial, 1, sum)\n",
    "    brain_area_features <- setNames(rep(0, length(all_brain_areas)), paste0(\"brain_area_\", all_brain_areas))\n",
    "    for(area in unique(brain_areas_session)){\n",
    "      idx <- which(brain_areas_session == area)\n",
    "      if(length(idx) > 0){\n",
    "         brain_area_features[paste0(\"brain_area_\", area)] <- mean(total_spikes[idx])\n",
    "      }\n",
    "    }\n",
    "    trial_info <- tibble(\n",
    "      session_ID = s,\n",
    "      trial_ID = trial,\n",
    "      mouse_name = tmp$mouse_name,\n",
    "      contrast_left = tmp$contrast_left[trial],\n",
    "      contrast_right = tmp$contrast_right[trial],\n",
    "      feedback_type = tmp$feedback_type[trial],\n",
    "      avg_spks = tmp$avg.spks[trial]\n",
    "    )\n",
    "    trial_features <- as_tibble(as.list(brain_area_features))\n",
    "    trial_combined <- bind_cols(trial_info, trial_features)\n",
    "    integrated_data <- bind_rows(integrated_data, trial_combined)\n",
    "  }\n",
    "}\n",
    "head(integrated_data)\n",
    "```"
   ]
  },
  {
   "cell_type": "markdown",
   "id": "171ce89a-b698-4c63-aadf-144f474376e9",
   "metadata": {},
   "source": [
    "To address the heterogeneity across sessions, we integrated trial-level data by extracting brain area features. First, we identified all unique brain areas across sessions. For each trial, we computed the average spike count per brain area and combined these features with trial metadata. This resulted in an integrated dataset that contains both the original trial features (contrast levels, feedback, etc.) and a comprehensive set of brain area features."
   ]
  },
  {
   "cell_type": "markdown",
   "id": "d96bfca1-7931-410b-99d2-89ed529a16eb",
   "metadata": {},
   "source": [
    "#### **Additional Feature Engineering**"
   ]
  },
  {
   "cell_type": "markdown",
   "id": "df7593c0-2dd1-4e67-af33-0343d8366fe5",
   "metadata": {},
   "source": [
    "We further enhanced the integrated dataset by adding new features such as the contrast difference and a decision variable. The decision variable categorizes trials based on whether the left or right contrast was dominant, or if there was no stimulus. These additional features enrich the dataset and are expected to improve the predictive model’s performance."
   ]
  },
  {
   "cell_type": "markdown",
   "id": "7faa6a62-424a-4607-85e0-f7f9dd92e0d1",
   "metadata": {},
   "source": [
    "---"
   ]
  },
  {
   "cell_type": "markdown",
   "id": "1fe2a2be-8623-4860-a7a3-bbb6010fb0d0",
   "metadata": {},
   "source": [
    "## **Session 4: Predictive Modeling**"
   ]
  },
  {
   "cell_type": "markdown",
   "id": "4e3c5090-5a19-4535-bc03-688682222f3b",
   "metadata": {},
   "source": [
    "#### **Model Development**"
   ]
  },
  {
   "cell_type": "markdown",
   "id": "dc3507c7-b79f-4b94-a683-7bf395bf4d5e",
   "metadata": {},
   "source": [
    "We developed a logistic regression model using our integrated features—including stimulus contrasts (contrast_left and contrast_right), average spike count (avg_spks), contrast difference (contrast_diff), decision variable (decision), session identifier (session_ID), and a suite of brain area features. This model was chosen for its interpretability and its ability to handle the high-dimensional, heterogeneous neural data collected across 18 sessions."
   ]
  },
  {
   "cell_type": "markdown",
   "id": "859f3fdf-21c9-4436-a705-6d62ef86a5c1",
   "metadata": {},
   "source": [
    "############## TEST DATA SET\n",
    "- **contrast_right**: Estimate = -1.249599, p < 0.001, indicating that higher right stimulus contrast is associated with lower odds of success.\n",
    "- **avg_spks**: Estimate = 3.053185, p < 0.001, suggesting that increased overall neural activity significantly increases the likelihood of success.\n",
    "- **contrast_diff**: Estimate = 1.260918, p < 0.001, which implies that larger contrast differences (i.e., greater stimulus disparity) are linked to higher trial success."
   ]
  },
  {
   "cell_type": "markdown",
   "id": "86f46e9d-2a6b-4ed9-be09-44a8f609e2c6",
   "metadata": {},
   "source": [
    "These coefficients suggest that both stimulus parameters and neural activity patterns—particularly in specific brain regions (e.g., brain_area_CA1, brain_area_BLA, brain_area_LD, brain_area_GPe, and brain_area_RSP)—play critical roles in predicting behavioral outcomes."
   ]
  },
  {
   "cell_type": "markdown",
   "id": "76b554d1-eaa0-4a10-a010-448e850df288",
   "metadata": {},
   "source": [
    "#### **Model Interpretation**"
   ]
  },
  {
   "cell_type": "markdown",
   "id": "e4876025-c2c4-4c1c-9f24-1f0b0d933141",
   "metadata": {},
   "source": [
    "The logistic regression model, with an AIC of 4540.9, indicates a reasonable fit given the complexity of the data. Notably, the positive association of avg_spks and contrast_diff with trial success underscores the importance of neural firing rates and stimulus disparity in driving behavior. Conversely, the negative coefficient for contrast_right may reflect a lateralized effect or specific task demands."
   ]
  },
  {
   "cell_type": "markdown",
   "id": "6c8be04b-2f31-4ff8-a178-bc655c5ba4d6",
   "metadata": {},
   "source": [
    "---"
   ]
  },
  {
   "cell_type": "markdown",
   "id": "71e7fcef-1174-4b72-9099-66a13a09adff",
   "metadata": {},
   "source": [
    "## **Session 5: Prediction Performance on the Test Sets**"
   ]
  },
  {
   "cell_type": "markdown",
   "id": "17cb8b02-178e-48ba-9425-85838dafbc7b",
   "metadata": {},
   "source": [
    "#### **Evaluation Metrics**"
   ]
  },
  {
   "cell_type": "markdown",
   "id": "027f9529-5ecd-400d-a06f-62c6d3ec9520",
   "metadata": {},
   "source": [
    "<center><img src=\"./Graphs/ROC Curve.png\" alt=\"ROC Curve\" style=\"width: 400px;\" align=\"center\"/></center>\n",
    "<center>Figure 4: Receiver Operating Characteristic figure of the Data</center>"
   ]
  },
  {
   "cell_type": "markdown",
   "id": "6e87f927-60df-4167-b450-21ba0d909f70",
   "metadata": {},
   "source": [
    "**<center>Test Accuracy: 0.71779744346116**</center>\n",
    "**<center>**AUC: 0.667435847399747**</center>"
   ]
  },
  {
   "cell_type": "markdown",
   "id": "c5a26e64-4258-45cd-94cb-263b5c33cb41",
   "metadata": {},
   "source": [
    "We assessed the performance of our final logistic regression model on a held-out test set. The model achieved an overall accuracy of approximately **71.78%**. In addition, the ROC curve analysis yielded an AUC of **0.667**, indicating moderate discriminative ability between successful and unsuccessful trials."
   ]
  },
  {
   "cell_type": "markdown",
   "id": "8bd7bd0b-30d9-439d-a44d-5ca64ab1e468",
   "metadata": {},
   "source": [
    "#### **Confusion Matrix Analysis**"
   ]
  },
  {
   "cell_type": "markdown",
   "id": "722786eb-1db8-4f6e-bea3-96a17babc375",
   "metadata": {},
   "source": [
    "The confusion matrix reveals the following key statistics:\n",
    "- **True Negatives (TN)**: 44\n",
    "- **False Positives (FP)**: 54\n",
    "- **False Negatives (FN)**: 233\n",
    "- **True Positives (TP)**: 686"
   ]
  },
  {
   "cell_type": "markdown",
   "id": "d540933a-3565-4165-84fc-c35af92bcbe2",
   "metadata": {},
   "source": [
    "From these results, the model exhibits a high specificity of **92.7%** but a low sensitivity of **15.9%**. This suggests that while the model is effective at correctly identifying failure trials, it tends to under-predict success, likely reflecting the imbalance in the dataset. Additionally, the positive predictive value for predicting failure is **44.9%**, and the overall balanced accuracy is **54.3%**."
   ]
  },
  {
   "cell_type": "markdown",
   "id": "bdd4ccf5-7469-475d-9a4c-3d2682c1647f",
   "metadata": {},
   "source": [
    "#### **Overall Performance**"
   ]
  },
  {
   "cell_type": "markdown",
   "id": "a106c21b-d868-4d4b-88f8-586b0538a853",
   "metadata": {},
   "source": [
    "Overall, while the logistic regression model demonstrates an acceptable level of accuracy, the observed bias towards predicting success indicates that further improvements are needed. Potential strategies for future work include incorporating class-balancing techniques, exploring more advanced ensemble methods, or employing alternative modeling approaches such as gradient boosting to better capture the complex relationships inherent in the neural data."
   ]
  },
  {
   "cell_type": "markdown",
   "id": "ef5ebd39-cb38-4858-838c-2759a78d015f",
   "metadata": {},
   "source": [
    "---"
   ]
  },
  {
   "cell_type": "markdown",
   "id": "8a593eb7-c01f-442e-8847-c149aff72cd1",
   "metadata": {},
   "source": [
    "## **Session 6: Discussion**"
   ]
  },
  {
   "cell_type": "markdown",
   "id": "c9518074-6e05-497b-b8cd-dc93f67e4039",
   "metadata": {},
   "source": [
    "In this project, we investigated the use of neural spike train data from multiple sessions to predict the behavioral outcomes of visual discrimination tasks in mice. Our approach involved an initial exploratory analysis to characterize the dataset, followed by a data integration process that consolidated trial-level features—including stimulus contrasts, neural firing rates, and brain area-specific activity—across 18 sessions."
   ]
  },
  {
   "cell_type": "markdown",
   "id": "6b666262-2170-4062-8f98-235f9ea0b95a",
   "metadata": {},
   "source": [
    "#### **Key Findings**"
   ]
  },
  {
   "cell_type": "markdown",
   "id": "0586f922-525f-4721-a1e9-301ab4c14e53",
   "metadata": {},
   "source": [
    "- **Stimulus and Neural Activity Contributions**: Our logistic regression model indicated that variables such as contrast_right, avg_spks, and contrast_diff were statistically significant predictors of trial outcomes. In particular, a higher contrast difference and increased neural firing rates were associated with a greater likelihood of success, suggesting that both the sensory input and overall neural activity contribute meaningfully to decision-making.\n",
    "- **Brain Region Effects**: Several brain area features (e.g., brain_area_CA1, brain_area_BLA, brain_area_LD, brain_area_GPe, and brain_area_RSP) emerged as important factors in the predictive model. This highlights the potential role of specific neural circuits in mediating the mice’s performance on visual tasks.\n",
    "- **Model Performance and Limitations**: Although our model achieved an overall test accuracy of approximately 71.8% and an AUC of 0.667, the confusion matrix revealed a pronounced imbalance: the model exhibited high specificity but low sensitivity. This indicates that while the model reliably identifies failure trials, it tends to under-predict successful trials. Such an imbalance might be due to class imbalance in the data or inherent variability across sessions."
   ]
  },
  {
   "cell_type": "markdown",
   "id": "68a461f8-1c25-4129-b0d5-343497fece7c",
   "metadata": {},
   "source": [
    "#### **Limitations**"
   ]
  },
  {
   "cell_type": "markdown",
   "id": "1c727ff2-bc7a-436e-8aa8-10f4779dd157",
   "metadata": {},
   "source": [
    "Waiting for test dataset"
   ]
  },
  {
   "cell_type": "code",
   "execution_count": null,
   "id": "bad81921-b1f7-4443-a17f-8d8a89e68964",
   "metadata": {},
   "outputs": [],
   "source": []
  }
 ],
 "metadata": {
  "kernelspec": {
   "display_name": "R",
   "language": "R",
   "name": "ir"
  },
  "language_info": {
   "codemirror_mode": "r",
   "file_extension": ".r",
   "mimetype": "text/x-r-source",
   "name": "R",
   "pygments_lexer": "r",
   "version": "4.3.3"
  }
 },
 "nbformat": 4,
 "nbformat_minor": 5
}
