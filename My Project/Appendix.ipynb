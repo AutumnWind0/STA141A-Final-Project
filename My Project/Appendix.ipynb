{
 "cells": [
  {
   "cell_type": "code",
   "execution_count": null,
   "id": "48f5db19-4fc2-45a5-903e-ce077a49b663",
   "metadata": {},
   "outputs": [],
   "source": [
    "Session 2"
   ]
  },
  {
   "cell_type": "code",
   "execution_count": 30,
   "id": "f84c89d6-dab9-41cf-97d4-c514d83fdcc1",
   "metadata": {},
   "outputs": [],
   "source": [
    "suppressWarnings(library(tidyverse))\n",
    "suppressWarnings(library(knitr))\n",
    "suppressWarnings(library(dplyr))\n",
    "suppressWarnings(library(ggplot2))\n",
    "suppressWarnings(library(IRdisplay))\n",
    "\n",
    "session <- list()\n",
    "for(i in 1:18){\n",
    "  session[[i]] <- readRDS(paste('./Data/session', i, '.rds', sep = ''))\n",
    "}"
   ]
  },
  {
   "cell_type": "code",
   "execution_count": 34,
   "id": "99d3edf1-3d4d-4b0f-9e4d-213f39c48ca3",
   "metadata": {},
   "outputs": [
    {
     "name": "stdout",
     "output_type": "stream",
     "text": [
      "\n",
      "\n",
      "|mouse_name |date_exp   | n_brain_area| n_neurons| n_trials| success_rate|\n",
      "|:----------|:----------|------------:|---------:|--------:|------------:|\n",
      "|Cori       |2016-12-14 |            8|       734|      114|    0.6052632|\n",
      "|Cori       |2016-12-17 |            5|      1070|      251|    0.6334661|\n",
      "|Cori       |2016-12-18 |           11|       619|      228|    0.6622807|\n",
      "|Forssmann  |2017-11-01 |           11|      1769|      249|    0.6666667|\n",
      "|Forssmann  |2017-11-02 |           10|      1077|      254|    0.6614173|\n",
      "|Forssmann  |2017-11-04 |            5|      1169|      290|    0.7413793|\n",
      "|Forssmann  |2017-11-05 |            8|       584|      252|    0.6706349|\n",
      "|Hench      |2017-06-15 |           15|      1157|      250|    0.6440000|\n",
      "|Hench      |2017-06-16 |           12|       788|      372|    0.6854839|\n",
      "|Hench      |2017-06-17 |           13|      1172|      447|    0.6196868|\n",
      "|Hench      |2017-06-18 |            6|       857|      342|    0.7953216|\n",
      "|Lederberg  |2017-12-05 |           12|       698|      340|    0.7382353|\n",
      "|Lederberg  |2017-12-06 |           15|       983|      300|    0.7966667|\n",
      "|Lederberg  |2017-12-07 |           10|       756|      268|    0.6940299|\n",
      "|Lederberg  |2017-12-08 |            8|       743|      404|    0.7648515|\n",
      "|Lederberg  |2017-12-09 |            6|       474|      280|    0.7178571|\n",
      "|Lederberg  |2017-12-10 |            6|       565|      224|    0.8303571|\n",
      "|Lederberg  |2017-12-11 |           10|      1090|      216|    0.8055556|\n"
     ]
    }
   ],
   "source": [
    "meta <- tibble(\n",
    "  mouse_name = character(),\n",
    "  date_exp = character(),\n",
    "  n_brain_area = integer(),\n",
    "  n_neurons = integer(),\n",
    "  n_trials = integer(),\n",
    "  success_rate = numeric()\n",
    ")\n",
    "\n",
    "for(i in 1:18){\n",
    "  tmp <- session[[i]]\n",
    "  meta <- meta %>% add_row(\n",
    "    mouse_name = tmp$mouse_name,\n",
    "    date_exp = tmp$date_exp,\n",
    "    n_brain_area = length(unique(tmp$brain_area)),\n",
    "    n_neurons = dim(tmp$spks[[1]])[1],\n",
    "    n_trials = length(tmp$feedback_type),\n",
    "    success_rate = mean(tmp$feedback_type + 1) / 2\n",
    "  )\n",
    "}\n",
    "\n",
    "print(kable(meta))"
   ]
  },
  {
   "cell_type": "code",
   "execution_count": 37,
   "id": "25a5a540-fc72-49f4-82a2-74e81ca2d649",
   "metadata": {},
   "outputs": [],
   "source": [
    "# Compute average spikes per trial for each session\n",
    "\n",
    "for(i in 1:18){\n",
    "  n.trials <- length(session[[i]]$feedback_type)\n",
    "  avg.spks.all <- numeric(n.trials)\n",
    "  for(j in 1:n.trials){\n",
    "    spks.trial <- session[[i]]$spks[[j]]\n",
    "    total.spikes <- apply(spks.trial, 1, sum)\n",
    "    avg.spks.all[j] <- mean(total.spikes)\n",
    "  }\n",
    "  session[[i]]$avg.spks <- avg.spks.all\n",
    "}"
   ]
  },
  {
   "cell_type": "code",
   "execution_count": 39,
   "id": "33d96731-42c0-41fd-a48f-911410c76e6d",
   "metadata": {},
   "outputs": [
    {
     "data": {
      "text/html": [
       "<table class=\"dataframe\">\n",
       "<caption>A tibble: 6 × 7</caption>\n",
       "<thead>\n",
       "\t<tr><th scope=col>session_ID</th><th scope=col>mouse_name</th><th scope=col>trial_ID</th><th scope=col>avg_spks</th><th scope=col>contrast_left</th><th scope=col>contrast_right</th><th scope=col>feedback_type</th></tr>\n",
       "\t<tr><th scope=col>&lt;int&gt;</th><th scope=col>&lt;chr&gt;</th><th scope=col>&lt;int&gt;</th><th scope=col>&lt;dbl&gt;</th><th scope=col>&lt;dbl[,1]&gt;</th><th scope=col>&lt;dbl[,1]&gt;</th><th scope=col>&lt;dbl[,1]&gt;</th></tr>\n",
       "</thead>\n",
       "<tbody>\n",
       "\t<tr><td>1</td><td>Cori</td><td>1</td><td>1.581744</td><td>0.0</td><td>0.5</td><td> 1</td></tr>\n",
       "\t<tr><td>1</td><td>Cori</td><td>2</td><td>1.311989</td><td>0.0</td><td>0.0</td><td> 1</td></tr>\n",
       "\t<tr><td>1</td><td>Cori</td><td>3</td><td>1.844687</td><td>0.5</td><td>1.0</td><td>-1</td></tr>\n",
       "\t<tr><td>1</td><td>Cori</td><td>4</td><td>1.381471</td><td>0.0</td><td>0.0</td><td>-1</td></tr>\n",
       "\t<tr><td>1</td><td>Cori</td><td>5</td><td>1.425068</td><td>0.0</td><td>0.0</td><td>-1</td></tr>\n",
       "\t<tr><td>1</td><td>Cori</td><td>6</td><td>1.094005</td><td>0.0</td><td>0.0</td><td> 1</td></tr>\n",
       "</tbody>\n",
       "</table>\n"
      ],
      "text/latex": [
       "A tibble: 6 × 7\n",
       "\\begin{tabular}{lllllll}\n",
       " session\\_ID & mouse\\_name & trial\\_ID & avg\\_spks & contrast\\_left & contrast\\_right & feedback\\_type\\\\\n",
       " <int> & <chr> & <int> & <dbl> & <dbl{[},1{]}> & <dbl{[},1{]}> & <dbl{[},1{]}>\\\\\n",
       "\\hline\n",
       "\t 1 & Cori & 1 & 1.581744 & 0.0 & 0.5 &  1\\\\\n",
       "\t 1 & Cori & 2 & 1.311989 & 0.0 & 0.0 &  1\\\\\n",
       "\t 1 & Cori & 3 & 1.844687 & 0.5 & 1.0 & -1\\\\\n",
       "\t 1 & Cori & 4 & 1.381471 & 0.0 & 0.0 & -1\\\\\n",
       "\t 1 & Cori & 5 & 1.425068 & 0.0 & 0.0 & -1\\\\\n",
       "\t 1 & Cori & 6 & 1.094005 & 0.0 & 0.0 &  1\\\\\n",
       "\\end{tabular}\n"
      ],
      "text/markdown": [
       "\n",
       "A tibble: 6 × 7\n",
       "\n",
       "| session_ID &lt;int&gt; | mouse_name &lt;chr&gt; | trial_ID &lt;int&gt; | avg_spks &lt;dbl&gt; | contrast_left &lt;dbl[,1]&gt; | contrast_right &lt;dbl[,1]&gt; | feedback_type &lt;dbl[,1]&gt; |\n",
       "|---|---|---|---|---|---|---|\n",
       "| 1 | Cori | 1 | 1.581744 | 0.0 | 0.5 |  1 |\n",
       "| 1 | Cori | 2 | 1.311989 | 0.0 | 0.0 |  1 |\n",
       "| 1 | Cori | 3 | 1.844687 | 0.5 | 1.0 | -1 |\n",
       "| 1 | Cori | 4 | 1.381471 | 0.0 | 0.0 | -1 |\n",
       "| 1 | Cori | 5 | 1.425068 | 0.0 | 0.0 | -1 |\n",
       "| 1 | Cori | 6 | 1.094005 | 0.0 | 0.0 |  1 |\n",
       "\n"
      ],
      "text/plain": [
       "  session_ID mouse_name trial_ID avg_spks contrast_left contrast_right\n",
       "1 1          Cori       1        1.581744 0.0           0.5           \n",
       "2 1          Cori       2        1.311989 0.0           0.0           \n",
       "3 1          Cori       3        1.844687 0.5           1.0           \n",
       "4 1          Cori       4        1.381471 0.0           0.0           \n",
       "5 1          Cori       5        1.425068 0.0           0.0           \n",
       "6 1          Cori       6        1.094005 0.0           0.0           \n",
       "  feedback_type\n",
       "1  1           \n",
       "2  1           \n",
       "3 -1           \n",
       "4 -1           \n",
       "5 -1           \n",
       "6  1           "
      ]
     },
     "metadata": {},
     "output_type": "display_data"
    }
   ],
   "source": [
    "# Combine trial data across sessions into one data frame\n",
    "\n",
    "trials.all <- tibble()\n",
    "for(s in 1:18){\n",
    "  n.trials <- length(session[[s]]$feedback_type)\n",
    "  tmp <- session[[s]]\n",
    "  trials <- tibble(\n",
    "    session_ID = s,\n",
    "    mouse_name = tmp$mouse_name,\n",
    "    trial_ID = 1:n.trials,\n",
    "    avg_spks = tmp$avg.spks,\n",
    "    contrast_left = tmp$contrast_left,\n",
    "    contrast_right = tmp$contrast_right,\n",
    "    feedback_type = tmp$feedback_type\n",
    "  )\n",
    "  trials.all <- bind_rows(trials.all, trials)\n",
    "}\n",
    "head(trials.all)"
   ]
  },
  {
   "cell_type": "code",
   "execution_count": 108,
   "id": "4ea56b48-5024-4680-bd5c-078584e420b6",
   "metadata": {},
   "outputs": [
    {
     "data": {
      "image/png": "[encoded data removed]",
      "text/plain": [
       "plot without title"
      ]
     },
     "metadata": {
      "image/png": {
       "height": 420,
       "width": 420
      }
     },
     "output_type": "display_data"
    }
   ],
   "source": [
    "# Visualize contrast difference distribution\n",
    "\n",
    "integrated_trials <- trials.all %>% \n",
    "  mutate(contrast_diff = abs(contrast_left - contrast_right))\n",
    "ggplot(integrated_trials, aes(x = contrast_diff)) +\n",
    "  geom_histogram(bins = 5, fill = \"lightgreen\", color = \"black\") +\n",
    "  theme_minimal() +\n",
    "  ggtitle(\"Distribution of Contrast Difference\") +\n",
    "  xlab(\"Contrast Difference\") +\n",
    "  ylab(\"Frequency\")"
   ]
  },
  {
   "cell_type": "code",
   "execution_count": 125,
   "id": "e0682b6c-3d77-4566-8e06-fbefe10e3b0e",
   "metadata": {},
   "outputs": [
    {
     "data": {
      "image/png": "[encoded data removed]",
      "text/plain": [
       "plot without title"
      ]
     },
     "metadata": {
      "image/png": {
       "height": 420,
       "width": 420
      }
     },
     "output_type": "display_data"
    }
   ],
   "source": [
    "# Plot success rate by contrast difference bins\n",
    "\n",
    "integrated_trials <- integrated_trials %>% \n",
    "  mutate(contrast_bin = cut(\n",
    "  contrast_diff,\n",
    "  breaks = c(0, 0.25, 0.5, 0.75, 1.0),\n",
    "  labels = c(\"Very Low\", \"Low\", \"Medium\", \"High\"),\n",
    "  include.lowest = TRUE\n",
    "))\n",
    "\n",
    "success_by_contrast <- integrated_trials %>% \n",
    "  group_by(contrast_bin) %>% \n",
    "  summarize(success_rate = mean(feedback_type == 1), .groups = \"drop\")\n",
    "ggplot(success_by_contrast, aes(x = contrast_bin, y = success_rate)) +\n",
    "  geom_bar(stat = \"identity\", fill = \"orange\", color = \"black\") +\n",
    "  theme_minimal() +\n",
    "  ggtitle(\"Success Rate by Contrast Difference\") +\n",
    "  xlab(\"Contrast Difference Bin\") +\n",
    "  ylab(\"Success Rate\")"
   ]
  },
  {
   "cell_type": "code",
   "execution_count": 51,
   "id": "ea664f28-db91-415c-bf29-8ef4e5448a82",
   "metadata": {},
   "outputs": [
    {
     "data": {
      "image/png": "[encoded data removed]",
      "text/plain": [
       "plot without title"
      ]
     },
     "metadata": {
      "image/png": {
       "height": 420,
       "width": 420
      }
     },
     "output_type": "display_data"
    }
   ],
   "source": [
    "# Plot success rate by mouse\n",
    "\n",
    "success_by_mouse <- integrated_trials %>% \n",
    "  group_by(mouse_name) %>% \n",
    "  summarize(success_rate = mean(feedback_type == 1), .groups = \"drop\")\n",
    "ggplot(success_by_mouse, aes(x = mouse_name, y = success_rate, fill = mouse_name)) +\n",
    "  geom_bar(stat = \"identity\") +\n",
    "  theme_minimal() +\n",
    "  ggtitle(\"Success Rate by Mouse\") +\n",
    "  xlab(\"Mouse Name\") +\n",
    "  ylab(\"Success Rate\")"
   ]
  },
  {
   "cell_type": "markdown",
   "id": "67190440-c932-4706-a8d1-2dc2fa17f91a",
   "metadata": {},
   "source": [
    "Session 3"
   ]
  },
  {
   "cell_type": "code",
   "execution_count": 57,
   "id": "790d9c26-55d9-4c46-9c30-013f6bb872cf",
   "metadata": {},
   "outputs": [
    {
     "name": "stdout",
     "output_type": "stream",
     "text": [
      " [1] \"ACA\"   \"ACB\"   \"AUD\"   \"BLA\"   \"CA1\"   \"CA3\"   \"CP\"    \"DG\"    \"EPd\"  \n",
      "[10] \"GPe\"   \"ILA\"   \"LD\"    \"LGd\"   \"LH\"    \"LP\"    \"LS\"    \"LSc\"   \"LSr\"  \n",
      "[19] \"MB\"    \"MD\"    \"MEA\"   \"MG\"    \"MOp\"   \"MOs\"   \"MRN\"   \"MS\"    \"NB\"   \n",
      "[28] \"OLF\"   \"ORB\"   \"ORBm\"  \"OT\"    \"PAG\"   \"PIR\"   \"PL\"    \"PO\"    \"POL\"  \n",
      "[37] \"POST\"  \"PT\"    \"RN\"    \"root\"  \"RSP\"   \"RT\"    \"SCm\"   \"SCs\"   \"SCsg\" \n",
      "[46] \"SI\"    \"SNr\"   \"SPF\"   \"SSp\"   \"SSs\"   \"SUB\"   \"TH\"    \"TT\"    \"VISa\" \n",
      "[55] \"VISam\" \"VISl\"  \"VISp\"  \"VISpm\" \"VISrl\" \"VPL\"   \"VPM\"   \"ZI\"   \n"
     ]
    }
   ],
   "source": [
    "#Identify all unique brain areas across sessions\n",
    "\n",
    "all_brain_areas <- unique(unlist(lapply(session, function(s) unique(s$brain_area))))\n",
    "all_brain_areas <- sort(all_brain_areas)\n",
    "print(all_brain_areas)"
   ]
  },
  {
   "cell_type": "code",
   "execution_count": 59,
   "id": "f7e21bb2-7a73-473e-b940-3b17f7ddce0b",
   "metadata": {},
   "outputs": [
    {
     "data": {
      "text/html": [
       "<table class=\"dataframe\">\n",
       "<caption>A tibble: 6 × 69</caption>\n",
       "<thead>\n",
       "\t<tr><th scope=col>session_ID</th><th scope=col>trial_ID</th><th scope=col>mouse_name</th><th scope=col>contrast_left</th><th scope=col>contrast_right</th><th scope=col>feedback_type</th><th scope=col>avg_spks</th><th scope=col>brain_area_ACA</th><th scope=col>brain_area_ACB</th><th scope=col>brain_area_AUD</th><th scope=col>⋯</th><th scope=col>brain_area_TT</th><th scope=col>brain_area_VISa</th><th scope=col>brain_area_VISam</th><th scope=col>brain_area_VISl</th><th scope=col>brain_area_VISp</th><th scope=col>brain_area_VISpm</th><th scope=col>brain_area_VISrl</th><th scope=col>brain_area_VPL</th><th scope=col>brain_area_VPM</th><th scope=col>brain_area_ZI</th></tr>\n",
       "\t<tr><th scope=col>&lt;int&gt;</th><th scope=col>&lt;int&gt;</th><th scope=col>&lt;chr&gt;</th><th scope=col>&lt;dbl&gt;</th><th scope=col>&lt;dbl&gt;</th><th scope=col>&lt;dbl&gt;</th><th scope=col>&lt;dbl&gt;</th><th scope=col>&lt;dbl&gt;</th><th scope=col>&lt;dbl&gt;</th><th scope=col>&lt;dbl&gt;</th><th scope=col>⋯</th><th scope=col>&lt;dbl&gt;</th><th scope=col>&lt;dbl&gt;</th><th scope=col>&lt;dbl&gt;</th><th scope=col>&lt;dbl&gt;</th><th scope=col>&lt;dbl&gt;</th><th scope=col>&lt;dbl&gt;</th><th scope=col>&lt;dbl&gt;</th><th scope=col>&lt;dbl&gt;</th><th scope=col>&lt;dbl&gt;</th><th scope=col>&lt;dbl&gt;</th></tr>\n",
       "</thead>\n",
       "<tbody>\n",
       "\t<tr><td>1</td><td>1</td><td>Cori</td><td>0.0</td><td>0.5</td><td> 1</td><td>1.581744</td><td>1.2660550</td><td>0</td><td>0</td><td>⋯</td><td>0</td><td>0</td><td>0</td><td>0</td><td>1.685393</td><td>0</td><td>0</td><td>0</td><td>0</td><td>0</td></tr>\n",
       "\t<tr><td>1</td><td>2</td><td>Cori</td><td>0.0</td><td>0.0</td><td> 1</td><td>1.311989</td><td>0.5871560</td><td>0</td><td>0</td><td>⋯</td><td>0</td><td>0</td><td>0</td><td>0</td><td>1.651685</td><td>0</td><td>0</td><td>0</td><td>0</td><td>0</td></tr>\n",
       "\t<tr><td>1</td><td>3</td><td>Cori</td><td>0.5</td><td>1.0</td><td>-1</td><td>1.844687</td><td>1.1926606</td><td>0</td><td>0</td><td>⋯</td><td>0</td><td>0</td><td>0</td><td>0</td><td>2.275281</td><td>0</td><td>0</td><td>0</td><td>0</td><td>0</td></tr>\n",
       "\t<tr><td>1</td><td>4</td><td>Cori</td><td>0.0</td><td>0.0</td><td>-1</td><td>1.381471</td><td>0.5137615</td><td>0</td><td>0</td><td>⋯</td><td>0</td><td>0</td><td>0</td><td>0</td><td>1.561798</td><td>0</td><td>0</td><td>0</td><td>0</td><td>0</td></tr>\n",
       "\t<tr><td>1</td><td>5</td><td>Cori</td><td>0.0</td><td>0.0</td><td>-1</td><td>1.425068</td><td>0.7706422</td><td>0</td><td>0</td><td>⋯</td><td>0</td><td>0</td><td>0</td><td>0</td><td>1.623596</td><td>0</td><td>0</td><td>0</td><td>0</td><td>0</td></tr>\n",
       "\t<tr><td>1</td><td>6</td><td>Cori</td><td>0.0</td><td>0.0</td><td> 1</td><td>1.094005</td><td>0.4587156</td><td>0</td><td>0</td><td>⋯</td><td>0</td><td>0</td><td>0</td><td>0</td><td>1.280899</td><td>0</td><td>0</td><td>0</td><td>0</td><td>0</td></tr>\n",
       "</tbody>\n",
       "</table>\n"
      ],
      "text/latex": [
       "A tibble: 6 × 69\n",
       "\\begin{tabular}{lllllllllllllllllllll}\n",
       " session\\_ID & trial\\_ID & mouse\\_name & contrast\\_left & contrast\\_right & feedback\\_type & avg\\_spks & brain\\_area\\_ACA & brain\\_area\\_ACB & brain\\_area\\_AUD & ⋯ & brain\\_area\\_TT & brain\\_area\\_VISa & brain\\_area\\_VISam & brain\\_area\\_VISl & brain\\_area\\_VISp & brain\\_area\\_VISpm & brain\\_area\\_VISrl & brain\\_area\\_VPL & brain\\_area\\_VPM & brain\\_area\\_ZI\\\\\n",
       " <int> & <int> & <chr> & <dbl> & <dbl> & <dbl> & <dbl> & <dbl> & <dbl> & <dbl> & ⋯ & <dbl> & <dbl> & <dbl> & <dbl> & <dbl> & <dbl> & <dbl> & <dbl> & <dbl> & <dbl>\\\\\n",
       "\\hline\n",
       "\t 1 & 1 & Cori & 0.0 & 0.5 &  1 & 1.581744 & 1.2660550 & 0 & 0 & ⋯ & 0 & 0 & 0 & 0 & 1.685393 & 0 & 0 & 0 & 0 & 0\\\\\n",
       "\t 1 & 2 & Cori & 0.0 & 0.0 &  1 & 1.311989 & 0.5871560 & 0 & 0 & ⋯ & 0 & 0 & 0 & 0 & 1.651685 & 0 & 0 & 0 & 0 & 0\\\\\n",
       "\t 1 & 3 & Cori & 0.5 & 1.0 & -1 & 1.844687 & 1.1926606 & 0 & 0 & ⋯ & 0 & 0 & 0 & 0 & 2.275281 & 0 & 0 & 0 & 0 & 0\\\\\n",
       "\t 1 & 4 & Cori & 0.0 & 0.0 & -1 & 1.381471 & 0.5137615 & 0 & 0 & ⋯ & 0 & 0 & 0 & 0 & 1.561798 & 0 & 0 & 0 & 0 & 0\\\\\n",
       "\t 1 & 5 & Cori & 0.0 & 0.0 & -1 & 1.425068 & 0.7706422 & 0 & 0 & ⋯ & 0 & 0 & 0 & 0 & 1.623596 & 0 & 0 & 0 & 0 & 0\\\\\n",
       "\t 1 & 6 & Cori & 0.0 & 0.0 &  1 & 1.094005 & 0.4587156 & 0 & 0 & ⋯ & 0 & 0 & 0 & 0 & 1.280899 & 0 & 0 & 0 & 0 & 0\\\\\n",
       "\\end{tabular}\n"
      ],
      "text/markdown": [
       "\n",
       "A tibble: 6 × 69\n",
       "\n",
       "| session_ID &lt;int&gt; | trial_ID &lt;int&gt; | mouse_name &lt;chr&gt; | contrast_left &lt;dbl&gt; | contrast_right &lt;dbl&gt; | feedback_type &lt;dbl&gt; | avg_spks &lt;dbl&gt; | brain_area_ACA &lt;dbl&gt; | brain_area_ACB &lt;dbl&gt; | brain_area_AUD &lt;dbl&gt; | ⋯ ⋯ | brain_area_TT &lt;dbl&gt; | brain_area_VISa &lt;dbl&gt; | brain_area_VISam &lt;dbl&gt; | brain_area_VISl &lt;dbl&gt; | brain_area_VISp &lt;dbl&gt; | brain_area_VISpm &lt;dbl&gt; | brain_area_VISrl &lt;dbl&gt; | brain_area_VPL &lt;dbl&gt; | brain_area_VPM &lt;dbl&gt; | brain_area_ZI &lt;dbl&gt; |\n",
       "|---|---|---|---|---|---|---|---|---|---|---|---|---|---|---|---|---|---|---|---|---|\n",
       "| 1 | 1 | Cori | 0.0 | 0.5 |  1 | 1.581744 | 1.2660550 | 0 | 0 | ⋯ | 0 | 0 | 0 | 0 | 1.685393 | 0 | 0 | 0 | 0 | 0 |\n",
       "| 1 | 2 | Cori | 0.0 | 0.0 |  1 | 1.311989 | 0.5871560 | 0 | 0 | ⋯ | 0 | 0 | 0 | 0 | 1.651685 | 0 | 0 | 0 | 0 | 0 |\n",
       "| 1 | 3 | Cori | 0.5 | 1.0 | -1 | 1.844687 | 1.1926606 | 0 | 0 | ⋯ | 0 | 0 | 0 | 0 | 2.275281 | 0 | 0 | 0 | 0 | 0 |\n",
       "| 1 | 4 | Cori | 0.0 | 0.0 | -1 | 1.381471 | 0.5137615 | 0 | 0 | ⋯ | 0 | 0 | 0 | 0 | 1.561798 | 0 | 0 | 0 | 0 | 0 |\n",
       "| 1 | 5 | Cori | 0.0 | 0.0 | -1 | 1.425068 | 0.7706422 | 0 | 0 | ⋯ | 0 | 0 | 0 | 0 | 1.623596 | 0 | 0 | 0 | 0 | 0 |\n",
       "| 1 | 6 | Cori | 0.0 | 0.0 |  1 | 1.094005 | 0.4587156 | 0 | 0 | ⋯ | 0 | 0 | 0 | 0 | 1.280899 | 0 | 0 | 0 | 0 | 0 |\n",
       "\n"
      ],
      "text/plain": [
       "  session_ID trial_ID mouse_name contrast_left contrast_right feedback_type\n",
       "1 1          1        Cori       0.0           0.5             1           \n",
       "2 1          2        Cori       0.0           0.0             1           \n",
       "3 1          3        Cori       0.5           1.0            -1           \n",
       "4 1          4        Cori       0.0           0.0            -1           \n",
       "5 1          5        Cori       0.0           0.0            -1           \n",
       "6 1          6        Cori       0.0           0.0             1           \n",
       "  avg_spks brain_area_ACA brain_area_ACB brain_area_AUD ⋯ brain_area_TT\n",
       "1 1.581744 1.2660550      0              0              ⋯ 0            \n",
       "2 1.311989 0.5871560      0              0              ⋯ 0            \n",
       "3 1.844687 1.1926606      0              0              ⋯ 0            \n",
       "4 1.381471 0.5137615      0              0              ⋯ 0            \n",
       "5 1.425068 0.7706422      0              0              ⋯ 0            \n",
       "6 1.094005 0.4587156      0              0              ⋯ 0            \n",
       "  brain_area_VISa brain_area_VISam brain_area_VISl brain_area_VISp\n",
       "1 0               0                0               1.685393       \n",
       "2 0               0                0               1.651685       \n",
       "3 0               0                0               2.275281       \n",
       "4 0               0                0               1.561798       \n",
       "5 0               0                0               1.623596       \n",
       "6 0               0                0               1.280899       \n",
       "  brain_area_VISpm brain_area_VISrl brain_area_VPL brain_area_VPM brain_area_ZI\n",
       "1 0                0                0              0              0            \n",
       "2 0                0                0              0              0            \n",
       "3 0                0                0              0              0            \n",
       "4 0                0                0              0              0            \n",
       "5 0                0                0              0              0            \n",
       "6 0                0                0              0              0            "
      ]
     },
     "metadata": {},
     "output_type": "display_data"
    }
   ],
   "source": [
    "# Create integrated data with brain area features for each trial \n",
    "\n",
    "integrated_data <- tibble()\n",
    "for(s in 1:18){\n",
    "  n.trials <- length(session[[s]]$feedback_type)\n",
    "  tmp <- session[[s]]\n",
    "  brain_areas_session <- tmp$brain_area\n",
    "  for(trial in 1:n.trials){\n",
    "    spks_trial <- tmp$spks[[trial]]\n",
    "    total_spikes <- apply(spks_trial, 1, sum)\n",
    "    brain_area_features <- setNames(rep(0, length(all_brain_areas)), paste0(\"brain_area_\", all_brain_areas))\n",
    "    for(area in unique(brain_areas_session)){\n",
    "      idx <- which(brain_areas_session == area)\n",
    "      if(length(idx) > 0){\n",
    "         brain_area_features[paste0(\"brain_area_\", area)] <- mean(total_spikes[idx])\n",
    "      }\n",
    "    }\n",
    "    trial_info <- tibble(\n",
    "      session_ID = s,\n",
    "      trial_ID = trial,\n",
    "      mouse_name = tmp$mouse_name,\n",
    "      contrast_left = tmp$contrast_left[trial],\n",
    "      contrast_right = tmp$contrast_right[trial],\n",
    "      feedback_type = tmp$feedback_type[trial],\n",
    "      avg_spks = tmp$avg.spks[trial]\n",
    "    )\n",
    "    trial_features <- as_tibble(as.list(brain_area_features))\n",
    "    trial_combined <- bind_cols(trial_info, trial_features)\n",
    "    integrated_data <- bind_rows(integrated_data, trial_combined)\n",
    "  }\n",
    "}\n",
    "head(integrated_data)\n"
   ]
  },
  {
   "cell_type": "code",
   "execution_count": 61,
   "id": "9a2253f4-1c10-4557-aa12-64848b9dc3f1",
   "metadata": {},
   "outputs": [
    {
     "data": {
      "text/html": [
       "<table class=\"dataframe\">\n",
       "<caption>A tibble: 6 × 71</caption>\n",
       "<thead>\n",
       "\t<tr><th scope=col>session_ID</th><th scope=col>trial_ID</th><th scope=col>mouse_name</th><th scope=col>contrast_left</th><th scope=col>contrast_right</th><th scope=col>feedback_type</th><th scope=col>avg_spks</th><th scope=col>brain_area_ACA</th><th scope=col>brain_area_ACB</th><th scope=col>brain_area_AUD</th><th scope=col>⋯</th><th scope=col>brain_area_VISam</th><th scope=col>brain_area_VISl</th><th scope=col>brain_area_VISp</th><th scope=col>brain_area_VISpm</th><th scope=col>brain_area_VISrl</th><th scope=col>brain_area_VPL</th><th scope=col>brain_area_VPM</th><th scope=col>brain_area_ZI</th><th scope=col>contrast_diff</th><th scope=col>decision</th></tr>\n",
       "\t<tr><th scope=col>&lt;int&gt;</th><th scope=col>&lt;int&gt;</th><th scope=col>&lt;chr&gt;</th><th scope=col>&lt;dbl&gt;</th><th scope=col>&lt;dbl&gt;</th><th scope=col>&lt;dbl&gt;</th><th scope=col>&lt;dbl&gt;</th><th scope=col>&lt;dbl&gt;</th><th scope=col>&lt;dbl&gt;</th><th scope=col>&lt;dbl&gt;</th><th scope=col>⋯</th><th scope=col>&lt;dbl&gt;</th><th scope=col>&lt;dbl&gt;</th><th scope=col>&lt;dbl&gt;</th><th scope=col>&lt;dbl&gt;</th><th scope=col>&lt;dbl&gt;</th><th scope=col>&lt;dbl&gt;</th><th scope=col>&lt;dbl&gt;</th><th scope=col>&lt;dbl&gt;</th><th scope=col>&lt;dbl&gt;</th><th scope=col>&lt;chr&gt;</th></tr>\n",
       "</thead>\n",
       "<tbody>\n",
       "\t<tr><td>1</td><td>1</td><td>Cori</td><td>0.0</td><td>0.5</td><td> 1</td><td>1.581744</td><td>1.2660550</td><td>0</td><td>0</td><td>⋯</td><td>0</td><td>0</td><td>1.685393</td><td>0</td><td>0</td><td>0</td><td>0</td><td>0</td><td>0.5</td><td>Right      </td></tr>\n",
       "\t<tr><td>1</td><td>2</td><td>Cori</td><td>0.0</td><td>0.0</td><td> 1</td><td>1.311989</td><td>0.5871560</td><td>0</td><td>0</td><td>⋯</td><td>0</td><td>0</td><td>1.651685</td><td>0</td><td>0</td><td>0</td><td>0</td><td>0</td><td>0.0</td><td>No Stimulus</td></tr>\n",
       "\t<tr><td>1</td><td>3</td><td>Cori</td><td>0.5</td><td>1.0</td><td>-1</td><td>1.844687</td><td>1.1926606</td><td>0</td><td>0</td><td>⋯</td><td>0</td><td>0</td><td>2.275281</td><td>0</td><td>0</td><td>0</td><td>0</td><td>0</td><td>0.5</td><td>Right      </td></tr>\n",
       "\t<tr><td>1</td><td>4</td><td>Cori</td><td>0.0</td><td>0.0</td><td>-1</td><td>1.381471</td><td>0.5137615</td><td>0</td><td>0</td><td>⋯</td><td>0</td><td>0</td><td>1.561798</td><td>0</td><td>0</td><td>0</td><td>0</td><td>0</td><td>0.0</td><td>No Stimulus</td></tr>\n",
       "\t<tr><td>1</td><td>5</td><td>Cori</td><td>0.0</td><td>0.0</td><td>-1</td><td>1.425068</td><td>0.7706422</td><td>0</td><td>0</td><td>⋯</td><td>0</td><td>0</td><td>1.623596</td><td>0</td><td>0</td><td>0</td><td>0</td><td>0</td><td>0.0</td><td>No Stimulus</td></tr>\n",
       "\t<tr><td>1</td><td>6</td><td>Cori</td><td>0.0</td><td>0.0</td><td> 1</td><td>1.094005</td><td>0.4587156</td><td>0</td><td>0</td><td>⋯</td><td>0</td><td>0</td><td>1.280899</td><td>0</td><td>0</td><td>0</td><td>0</td><td>0</td><td>0.0</td><td>No Stimulus</td></tr>\n",
       "</tbody>\n",
       "</table>\n"
      ],
      "text/latex": [
       "A tibble: 6 × 71\n",
       "\\begin{tabular}{lllllllllllllllllllll}\n",
       " session\\_ID & trial\\_ID & mouse\\_name & contrast\\_left & contrast\\_right & feedback\\_type & avg\\_spks & brain\\_area\\_ACA & brain\\_area\\_ACB & brain\\_area\\_AUD & ⋯ & brain\\_area\\_VISam & brain\\_area\\_VISl & brain\\_area\\_VISp & brain\\_area\\_VISpm & brain\\_area\\_VISrl & brain\\_area\\_VPL & brain\\_area\\_VPM & brain\\_area\\_ZI & contrast\\_diff & decision\\\\\n",
       " <int> & <int> & <chr> & <dbl> & <dbl> & <dbl> & <dbl> & <dbl> & <dbl> & <dbl> & ⋯ & <dbl> & <dbl> & <dbl> & <dbl> & <dbl> & <dbl> & <dbl> & <dbl> & <dbl> & <chr>\\\\\n",
       "\\hline\n",
       "\t 1 & 1 & Cori & 0.0 & 0.5 &  1 & 1.581744 & 1.2660550 & 0 & 0 & ⋯ & 0 & 0 & 1.685393 & 0 & 0 & 0 & 0 & 0 & 0.5 & Right      \\\\\n",
       "\t 1 & 2 & Cori & 0.0 & 0.0 &  1 & 1.311989 & 0.5871560 & 0 & 0 & ⋯ & 0 & 0 & 1.651685 & 0 & 0 & 0 & 0 & 0 & 0.0 & No Stimulus\\\\\n",
       "\t 1 & 3 & Cori & 0.5 & 1.0 & -1 & 1.844687 & 1.1926606 & 0 & 0 & ⋯ & 0 & 0 & 2.275281 & 0 & 0 & 0 & 0 & 0 & 0.5 & Right      \\\\\n",
       "\t 1 & 4 & Cori & 0.0 & 0.0 & -1 & 1.381471 & 0.5137615 & 0 & 0 & ⋯ & 0 & 0 & 1.561798 & 0 & 0 & 0 & 0 & 0 & 0.0 & No Stimulus\\\\\n",
       "\t 1 & 5 & Cori & 0.0 & 0.0 & -1 & 1.425068 & 0.7706422 & 0 & 0 & ⋯ & 0 & 0 & 1.623596 & 0 & 0 & 0 & 0 & 0 & 0.0 & No Stimulus\\\\\n",
       "\t 1 & 6 & Cori & 0.0 & 0.0 &  1 & 1.094005 & 0.4587156 & 0 & 0 & ⋯ & 0 & 0 & 1.280899 & 0 & 0 & 0 & 0 & 0 & 0.0 & No Stimulus\\\\\n",
       "\\end{tabular}\n"
      ],
      "text/markdown": [
       "\n",
       "A tibble: 6 × 71\n",
       "\n",
       "| session_ID &lt;int&gt; | trial_ID &lt;int&gt; | mouse_name &lt;chr&gt; | contrast_left &lt;dbl&gt; | contrast_right &lt;dbl&gt; | feedback_type &lt;dbl&gt; | avg_spks &lt;dbl&gt; | brain_area_ACA &lt;dbl&gt; | brain_area_ACB &lt;dbl&gt; | brain_area_AUD &lt;dbl&gt; | ⋯ ⋯ | brain_area_VISam &lt;dbl&gt; | brain_area_VISl &lt;dbl&gt; | brain_area_VISp &lt;dbl&gt; | brain_area_VISpm &lt;dbl&gt; | brain_area_VISrl &lt;dbl&gt; | brain_area_VPL &lt;dbl&gt; | brain_area_VPM &lt;dbl&gt; | brain_area_ZI &lt;dbl&gt; | contrast_diff &lt;dbl&gt; | decision &lt;chr&gt; |\n",
       "|---|---|---|---|---|---|---|---|---|---|---|---|---|---|---|---|---|---|---|---|---|\n",
       "| 1 | 1 | Cori | 0.0 | 0.5 |  1 | 1.581744 | 1.2660550 | 0 | 0 | ⋯ | 0 | 0 | 1.685393 | 0 | 0 | 0 | 0 | 0 | 0.5 | Right       |\n",
       "| 1 | 2 | Cori | 0.0 | 0.0 |  1 | 1.311989 | 0.5871560 | 0 | 0 | ⋯ | 0 | 0 | 1.651685 | 0 | 0 | 0 | 0 | 0 | 0.0 | No Stimulus |\n",
       "| 1 | 3 | Cori | 0.5 | 1.0 | -1 | 1.844687 | 1.1926606 | 0 | 0 | ⋯ | 0 | 0 | 2.275281 | 0 | 0 | 0 | 0 | 0 | 0.5 | Right       |\n",
       "| 1 | 4 | Cori | 0.0 | 0.0 | -1 | 1.381471 | 0.5137615 | 0 | 0 | ⋯ | 0 | 0 | 1.561798 | 0 | 0 | 0 | 0 | 0 | 0.0 | No Stimulus |\n",
       "| 1 | 5 | Cori | 0.0 | 0.0 | -1 | 1.425068 | 0.7706422 | 0 | 0 | ⋯ | 0 | 0 | 1.623596 | 0 | 0 | 0 | 0 | 0 | 0.0 | No Stimulus |\n",
       "| 1 | 6 | Cori | 0.0 | 0.0 |  1 | 1.094005 | 0.4587156 | 0 | 0 | ⋯ | 0 | 0 | 1.280899 | 0 | 0 | 0 | 0 | 0 | 0.0 | No Stimulus |\n",
       "\n"
      ],
      "text/plain": [
       "  session_ID trial_ID mouse_name contrast_left contrast_right feedback_type\n",
       "1 1          1        Cori       0.0           0.5             1           \n",
       "2 1          2        Cori       0.0           0.0             1           \n",
       "3 1          3        Cori       0.5           1.0            -1           \n",
       "4 1          4        Cori       0.0           0.0            -1           \n",
       "5 1          5        Cori       0.0           0.0            -1           \n",
       "6 1          6        Cori       0.0           0.0             1           \n",
       "  avg_spks brain_area_ACA brain_area_ACB brain_area_AUD ⋯ brain_area_VISam\n",
       "1 1.581744 1.2660550      0              0              ⋯ 0               \n",
       "2 1.311989 0.5871560      0              0              ⋯ 0               \n",
       "3 1.844687 1.1926606      0              0              ⋯ 0               \n",
       "4 1.381471 0.5137615      0              0              ⋯ 0               \n",
       "5 1.425068 0.7706422      0              0              ⋯ 0               \n",
       "6 1.094005 0.4587156      0              0              ⋯ 0               \n",
       "  brain_area_VISl brain_area_VISp brain_area_VISpm brain_area_VISrl\n",
       "1 0               1.685393        0                0               \n",
       "2 0               1.651685        0                0               \n",
       "3 0               2.275281        0                0               \n",
       "4 0               1.561798        0                0               \n",
       "5 0               1.623596        0                0               \n",
       "6 0               1.280899        0                0               \n",
       "  brain_area_VPL brain_area_VPM brain_area_ZI contrast_diff decision   \n",
       "1 0              0              0             0.5           Right      \n",
       "2 0              0              0             0.0           No Stimulus\n",
       "3 0              0              0             0.5           Right      \n",
       "4 0              0              0             0.0           No Stimulus\n",
       "5 0              0              0             0.0           No Stimulus\n",
       "6 0              0              0             0.0           No Stimulus"
      ]
     },
     "metadata": {},
     "output_type": "display_data"
    }
   ],
   "source": [
    "# Add additional features to integrated data\n",
    "\n",
    "integrated_data <- integrated_data %>% \n",
    "  mutate(contrast_diff = abs(contrast_left - contrast_right),\n",
    "         decision = case_when(\n",
    "           contrast_left > contrast_right ~ \"Left\",\n",
    "           contrast_left < contrast_right ~ \"Right\",\n",
    "           contrast_left == contrast_right & contrast_left == 0 ~ \"No Stimulus\",\n",
    "           TRUE ~ \"Equal Nonzero\"\n",
    "         ))\n",
    "head(integrated_data)\n"
   ]
  },
  {
   "cell_type": "markdown",
   "id": "374d6155-b252-46d6-b83c-cae875d9c0ba",
   "metadata": {},
   "source": [
    "Session 4"
   ]
  },
  {
   "cell_type": "code",
   "execution_count": 63,
   "id": "970143b7-ae70-410f-bce3-2f0c72908293",
   "metadata": {},
   "outputs": [],
   "source": [
    "set.seed(1)\n",
    "sample_idx <- sample(seq_len(nrow(integrated_data)), size = floor(0.8 * nrow(integrated_data)))\n",
    "train_data <- integrated_data[sample_idx, ]\n",
    "test_data <- integrated_data[-sample_idx, ]"
   ]
  },
  {
   "cell_type": "code",
   "execution_count": 65,
   "id": "d140cae4-e03f-4f3d-8d13-91c76a313e16",
   "metadata": {},
   "outputs": [
    {
     "data": {
      "text/plain": [
       "\n",
       "Call:\n",
       "glm(formula = formula_str, family = \"binomial\", data = train_data)\n",
       "\n",
       "Coefficients:\n",
       "                     Estimate Std. Error z value Pr(>|z|)    \n",
       "(Intercept)         -2.621588   0.510648  -5.134 2.84e-07 ***\n",
       "contrast_left       -0.196338   0.209575  -0.937 0.348841    \n",
       "contrast_right      -1.249599   0.221914  -5.631 1.79e-08 ***\n",
       "avg_spks             3.053185   0.552276   5.528 3.23e-08 ***\n",
       "contrast_diff        1.260918   0.203327   6.201 5.60e-10 ***\n",
       "decisionLeft         0.191534   0.235930   0.812 0.416892    \n",
       "decisionNo Stimulus  0.452040   0.207202   2.182 0.029136 *  \n",
       "decisionRight        0.541075   0.230781   2.345 0.019051 *  \n",
       "session_ID           0.026544   0.045619   0.582 0.560650    \n",
       "brain_area_ACA       0.202724   0.438748   0.462 0.644046    \n",
       "brain_area_ACB       1.972974   1.776974   1.110 0.266870    \n",
       "brain_area_AUD       0.880867   0.993074   0.887 0.375073    \n",
       "brain_area_BLA      -2.828357   0.695008  -4.070 4.71e-05 ***\n",
       "brain_area_CA1       0.609506   0.206464   2.952 0.003156 ** \n",
       "brain_area_CA3      -0.010187   0.074091  -0.137 0.890643    \n",
       "brain_area_CP        0.521841   0.573256   0.910 0.362658    \n",
       "brain_area_DG       -0.370878   0.153621  -2.414 0.015768 *  \n",
       "brain_area_EPd      -1.754429   1.119935  -1.567 0.117221    \n",
       "brain_area_GPe       2.103352   0.571671   3.679 0.000234 ***\n",
       "brain_area_ILA      -0.977569   0.854143  -1.145 0.252415    \n",
       "brain_area_LD       -0.642357   0.149008  -4.311 1.63e-05 ***\n",
       "brain_area_LGd      -0.159572   0.160086  -0.997 0.318869    \n",
       "brain_area_LH       -0.497337   0.161379  -3.082 0.002058 ** \n",
       "brain_area_LP       -0.035597   0.128284  -0.277 0.781404    \n",
       "brain_area_LS       -0.399251   0.541035  -0.738 0.460551    \n",
       "brain_area_LSc      -1.119026   0.885028  -1.264 0.206088    \n",
       "brain_area_LSr       0.059579   0.069529   0.857 0.391501    \n",
       "brain_area_MB       -0.742349   0.205433  -3.614 0.000302 ***\n",
       "brain_area_MD        0.053750   0.445942   0.121 0.904062    \n",
       "brain_area_MEA      -0.526131   0.688351  -0.764 0.444668    \n",
       "brain_area_MG       -0.134916   0.482345  -0.280 0.779701    \n",
       "brain_area_MOp      -1.029398   1.036078  -0.994 0.320441    \n",
       "brain_area_MOs      -0.289724   0.373422  -0.776 0.437830    \n",
       "brain_area_MRN      -0.272004   0.138709  -1.961 0.049883 *  \n",
       "brain_area_MS       -0.495015   0.181652  -2.725 0.006429 ** \n",
       "brain_area_NB       -0.783640   0.328321  -2.387 0.016995 *  \n",
       "brain_area_OLF       0.304155   1.239134   0.245 0.806102    \n",
       "brain_area_ORB      -1.036711   0.783590  -1.323 0.185826    \n",
       "brain_area_ORBm      0.339268   0.668510   0.507 0.611805    \n",
       "brain_area_OT       -0.682645   0.759019  -0.899 0.368451    \n",
       "brain_area_PAG      -0.239800   0.357522  -0.671 0.502394    \n",
       "brain_area_PIR       0.396636   0.386646   1.026 0.304968    \n",
       "brain_area_PL       -0.705052   0.349482  -2.017 0.043652 *  \n",
       "brain_area_PO        0.427863   0.518951   0.824 0.409669    \n",
       "brain_area_POL       0.141289   0.538849   0.262 0.793163    \n",
       "brain_area_POST      0.577218   0.397470   1.452 0.146437    \n",
       "brain_area_PT        1.134402   0.481742   2.355 0.018533 *  \n",
       "brain_area_RN        0.668190   0.167229   3.996 6.45e-05 ***\n",
       "brain_area_root      0.001222   0.100106   0.012 0.990259    \n",
       "brain_area_RSP       4.670321   1.368639   3.412 0.000644 ***\n",
       "brain_area_RT       -0.617793   0.515748  -1.198 0.230972    \n",
       "brain_area_SCm      -0.703852   0.200054  -3.518 0.000434 ***\n",
       "brain_area_SCs       0.209808   0.297583   0.705 0.480784    \n",
       "brain_area_SCsg      0.416579   0.183630   2.269 0.023294 *  \n",
       "brain_area_SI       -1.667082   0.757611  -2.200 0.027775 *  \n",
       "brain_area_SNr       1.601064   0.831233   1.926 0.054088 .  \n",
       "brain_area_SPF      -0.307279   0.193245  -1.590 0.111813    \n",
       "brain_area_SSp      -0.297204   0.367964  -0.808 0.419263    \n",
       "brain_area_SSs       1.404014   0.892945   1.572 0.115871    \n",
       "brain_area_SUB      -0.217041   0.272954  -0.795 0.426523    \n",
       "brain_area_TH       -0.069376   0.347123  -0.200 0.841590    \n",
       "brain_area_TT       -0.359838   0.524671  -0.686 0.492817    \n",
       "brain_area_VISa      0.815596   0.428085   1.905 0.056751 .  \n",
       "brain_area_VISam     0.321368   0.221613   1.450 0.147023    \n",
       "brain_area_VISl     -0.761911   0.412024  -1.849 0.064430 .  \n",
       "brain_area_VISp      0.026217   0.225377   0.116 0.907395    \n",
       "brain_area_VISpm    -1.170986   0.583984  -2.005 0.044945 *  \n",
       "brain_area_VISrl    -2.269769   1.334811  -1.700 0.089048 .  \n",
       "brain_area_VPL       0.054727   0.179291   0.305 0.760184    \n",
       "brain_area_VPM       1.906988   0.506341   3.766 0.000166 ***\n",
       "brain_area_ZI       -0.217552   0.204380  -1.064 0.287126    \n",
       "---\n",
       "Signif. codes:  0 '***' 0.001 '**' 0.01 '*' 0.05 '.' 0.1 ' ' 1\n",
       "\n",
       "(Dispersion parameter for binomial family taken to be 1)\n",
       "\n",
       "    Null deviance: 4925.2  on 4063  degrees of freedom\n",
       "Residual deviance: 4398.9  on 3993  degrees of freedom\n",
       "AIC: 4540.9\n",
       "\n",
       "Number of Fisher Scoring iterations: 4\n"
      ]
     },
     "metadata": {},
     "output_type": "display_data"
    }
   ],
   "source": [
    "brain_cols <- names(train_data)[grep(\"^brain_area_\", names(train_data))]\n",
    "predictors <- c(\"contrast_left\", \"contrast_right\", \"avg_spks\", \"contrast_diff\", \"decision\", \"session_ID\", brain_cols)\n",
    "formula_str <- as.formula(paste(\"as.factor(feedback_type) ~\", paste(predictors, collapse = \" + \")))\n",
    "model <- glm(formula_str, data = train_data, family = \"binomial\")\n",
    "summary(model)"
   ]
  },
  {
   "cell_type": "markdown",
   "id": "1e2e9e12-7b45-4563-ab7b-f3f7a5784e10",
   "metadata": {},
   "source": [
    "Session 5"
   ]
  },
  {
   "cell_type": "code",
   "execution_count": 68,
   "id": "4f1f16c4-7827-4890-9a0d-bd0f1928ef5b",
   "metadata": {},
   "outputs": [
    {
     "name": "stdout",
     "output_type": "stream",
     "text": [
      "[1] \"Test Accuracy: 0.71779744346116\"\n"
     ]
    }
   ],
   "source": [
    "pred_prob <- predict(model, newdata = test_data, type = \"response\")\n",
    "pred_class <- ifelse(pred_prob > 0.5, 1, -1)\n",
    "accuracy <- mean(pred_class == test_data$feedback_type)\n",
    "print(paste(\"Test Accuracy:\", accuracy))\n"
   ]
  },
  {
   "cell_type": "code",
   "execution_count": 70,
   "id": "dc3278b4-aee2-4e60-9ceb-593f8f31117f",
   "metadata": {},
   "outputs": [
    {
     "name": "stdout",
     "output_type": "stream",
     "text": [
      "[1] \"AUC: 0.667435847399747\"\n"
     ]
    },
    {
     "data": {
      "image/png": "[encoded data removed]",
      "text/plain": [
       "Plot with title \"ROC Curve for Test Data\""
      ]
     },
     "metadata": {
      "image/png": {
       "height": 420,
       "width": 420
      }
     },
     "output_type": "display_data"
    }
   ],
   "source": [
    "suppressWarnings(library(ROCR))\n",
    "pred_obj <- prediction(pred_prob, test_data$feedback_type)\n",
    "perf_obj <- performance(pred_obj, \"tpr\", \"fpr\")\n",
    "plot(perf_obj, col = \"blue\", main = \"ROC Curve for Test Data\")\n",
    "abline(a = 0, b = 1, lty = 2, col = \"red\")\n",
    "auc <- performance(pred_obj, \"auc\")\n",
    "auc_value <- auc@y.values[[1]]\n",
    "print(paste(\"AUC:\", auc_value))\n"
   ]
  },
  {
   "cell_type": "code",
   "execution_count": 74,
   "id": "78750816-9486-470f-afdb-857f2e3a6f82",
   "metadata": {},
   "outputs": [
    {
     "name": "stdout",
     "output_type": "stream",
     "text": [
      "Confusion Matrix and Statistics\n",
      "\n",
      "          Reference\n",
      "Prediction  -1   1\n",
      "        -1  44  54\n",
      "        1  233 686\n",
      "                                         \n",
      "               Accuracy : 0.7178         \n",
      "                 95% CI : (0.689, 0.7453)\n",
      "    No Information Rate : 0.7276         \n",
      "    P-Value [Acc > NIR] : 0.771          \n",
      "                                         \n",
      "                  Kappa : 0.1076         \n",
      "                                         \n",
      " Mcnemar's Test P-Value : <2e-16         \n",
      "                                         \n",
      "            Sensitivity : 0.15884        \n",
      "            Specificity : 0.92703        \n",
      "         Pos Pred Value : 0.44898        \n",
      "         Neg Pred Value : 0.74646        \n",
      "             Prevalence : 0.27237        \n",
      "         Detection Rate : 0.04326        \n",
      "   Detection Prevalence : 0.09636        \n",
      "      Balanced Accuracy : 0.54294        \n",
      "                                         \n",
      "       'Positive' Class : -1             \n",
      "                                         \n"
     ]
    }
   ],
   "source": [
    "suppressWarnings(library(caret))\n",
    "test_data <- test_data %>% mutate(pred_class = factor(pred_class, levels = c(-1, 1)),\n",
    "                                    feedback_factor = factor(feedback_type, levels = c(-1, 1)))\n",
    "cm <- confusionMatrix(test_data$pred_class, test_data$feedback_factor)\n",
    "print(cm)\n"
   ]
  },
  {
   "cell_type": "code",
   "execution_count": null,
   "id": "7737bbbf-6dab-47b2-888d-b492d66dc625",
   "metadata": {},
   "outputs": [],
   "source": []
  }
 ],
 "metadata": {
  "kernelspec": {
   "display_name": "R",
   "language": "R",
   "name": "ir"
  },
  "language_info": {
   "codemirror_mode": "r",
   "file_extension": ".r",
   "mimetype": "text/x-r-source",
   "name": "R",
   "pygments_lexer": "r",
   "version": "4.3.3"
  }
 },
 "nbformat": 4,
 "nbformat_minor": 5
}
